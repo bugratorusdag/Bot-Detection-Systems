{
 "cells": [
  {
   "cell_type": "code",
   "execution_count": 41,
   "metadata": {},
   "outputs": [],
   "source": [
    "import numpy as np\n",
    "import pandas as pd\n",
    "from digitaldna.lcs import LongestCommonSubsequence"
   ]
  },
  {
   "cell_type": "code",
   "execution_count": 42,
   "metadata": {
    "scrolled": true
   },
   "outputs": [],
   "source": [
    "#Change directories use the DNA datasets\n",
    "\n",
    "ga= pd.read_csv(\"/xxx/genuine_account_DNA.csv\", na_filter=False, lineterminator='\\n', sep=',')\n",
    "s1= pd.read_csv(\"/xxx/social_bot1_DNA.csv\", na_filter=False, lineterminator='\\n', sep=',')\n",
    "s2= pd.read_csv(\"/xxx/social_bot2_DNA.csv\", na_filter=False, lineterminator='\\n', sep=',')\n",
    "s3= pd.read_csv(\"/xxx/social_bot3_DNA.csv\", na_filter=False, lineterminator='\\n', sep=',')\n",
    "t1= pd.read_csv(\"/xxx/traditional_spambot_DNA.csv\", na_filter=False, lineterminator='\\n', sep=',')\n",
    "ru= pd.read_csv(\"/xxx/rus_bot_DNA.csv\", na_filter=False, lineterminator='\\n', sep=',')\n",
    "ff= pd.read_csv(\"/xxx/fake_follower_DNA.csv\", na_filter=False, lineterminator='\\n', sep=',')"
   ]
  },
  {
   "cell_type": "code",
   "execution_count": 76,
   "metadata": {},
   "outputs": [],
   "source": [
    "#concat the datasets according to the experiment\n",
    "\n",
    "dataset = pd.concat([ff,ga,s1,s2,s3,t1,ru])"
   ]
  },
  {
   "cell_type": "code",
   "execution_count": 80,
   "metadata": {},
   "outputs": [
    {
     "name": "stdout",
     "output_type": "stream",
     "text": [
      "fitting...\n",
      "predicting...\n",
      "done.\n"
     ]
    }
   ],
   "source": [
    "#first set threshold 'auto' then look estimator plot and give the value of split point\n",
    "\n",
    "estimator = LongestCommonSubsequence(in_path='', out_path='/tmp/glcr_cache', overwrite=False, threshold=2000, window=10)\n",
    "result = estimator.fit_predict(dataset[\"DNA\"])"
   ]
  },
  {
   "cell_type": "code",
   "execution_count": 81,
   "metadata": {},
   "outputs": [
    {
     "data": {
      "text/plain": [
       "<module 'matplotlib.pyplot' from '/home/bugra/.local/lib/python3.8/site-packages/matplotlib/pyplot.py'>"
      ]
     },
     "execution_count": 81,
     "metadata": {},
     "output_type": "execute_result"
    },
    {
     "data": {
      "image/png": "[encoded data removed]",
      "text/plain": [
       "<Figure size 432x288 with 1 Axes>"
      ]
     },
     "metadata": {
      "needs_background": "light"
     },
     "output_type": "display_data"
    }
   ],
   "source": [
    "estimator.plot_LCS()"
   ]
  },
  {
   "cell_type": "code",
   "execution_count": null,
   "metadata": {},
   "outputs": [],
   "source": [
    "result = pd.Series(sonuc).map({True:1, False:0})"
   ]
  },
  {
   "cell_type": "code",
   "execution_count": null,
   "metadata": {},
   "outputs": [],
   "source": [
    "#these IDs are the IDs used as test sets of Model2 and Model 3\n",
    "#aim is testing the models with same setup\n",
    "\n",
    "from numpy import loadtxt\n",
    "ids = loadtxt(\"/xxx/ids_scenario1.txt\", delimiter=\"\\n\", unpack=False) #fill the directory according to scenario"
   ]
  },
  {
   "cell_type": "code",
   "execution_count": null,
   "metadata": {},
   "outputs": [],
   "source": [
    "result_DF = pd.DataFrame()\n",
    "result_DF['user_id'] = dataset['user_id']\n",
    "result_DF['knownBot'] = dataset['knownBot\\r']\n",
    "result_DF['LCS_result'] = result\n",
    "result_DF_ = result_DF[result_DF['user_id'].isin(ids)] #select the ids which are used in Model 2 and 3 as test sets\n",
    "result_DF_"
   ]
  },
  {
   "cell_type": "code",
   "execution_count": null,
   "metadata": {},
   "outputs": [],
   "source": [
    "#real = dataset['knownBot\\r'] # use these to test with full dataset\n",
    "#pred = result # use these to test with full dataset\n",
    "\n",
    "real = result_DF_['knownBot']\n",
    "pred = result_DF_['LCS_result']"
   ]
  },
  {
   "cell_type": "code",
   "execution_count": null,
   "metadata": {},
   "outputs": [],
   "source": [
    "from sklearn.metrics import accuracy_score\n",
    "from sklearn.metrics import f1_score\n",
    "from sklearn.metrics import roc_auc_score\n",
    "\n",
    "print(\"Accuracy:\", accuracy_score(real, pred))\n",
    "print(\"F1 Score:\", f1_score(real, pred))\n",
    "print(\"AUC:\", roc_auc_score(real,pred))"
   ]
  }
 ],
 "metadata": {
  "kernelspec": {
   "display_name": "Python 3",
   "language": "python",
   "name": "python3"
  },
  "language_info": {
   "codemirror_mode": {
    "name": "ipython",
    "version": 3
   },
   "file_extension": ".py",
   "mimetype": "text/x-python",
   "name": "python",
   "nbconvert_exporter": "python",
   "pygments_lexer": "ipython3",
   "version": "3.7.1"
  }
 },
 "nbformat": 4,
 "nbformat_minor": 4
}
