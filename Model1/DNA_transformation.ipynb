{
 "cells": [
  {
   "cell_type": "code",
   "execution_count": null,
   "metadata": {},
   "outputs": [],
   "source": [
    "import os\n",
    "import pandas as pd\n",
    "pd.set_option('display.max_columns', None)\n",
    "df = pd.read_csv(\"xxx\") #add directory of the dataset"
   ]
  },
  {
   "cell_type": "code",
   "execution_count": null,
   "metadata": {},
   "outputs": [],
   "source": [
    "df.head()\n",
    "df.fillna('')"
   ]
  },
  {
   "cell_type": "code",
   "execution_count": null,
   "metadata": {},
   "outputs": [],
   "source": [
    "df = df.sort_values(by=['user_id','timestamp'])"
   ]
  },
  {
   "cell_type": "code",
   "execution_count": null,
   "metadata": {},
   "outputs": [],
   "source": [
    "dna = []\n",
    "timeline = \"\"\n",
    "for i in range(len(df)):\n",
    "    if df.iloc[i][\"in_reply_to_status_id\"] != 0:\n",
    "        timeline += \"T\"\n",
    "    elif df.iloc[i][\"retweeted_status_id\"] != 0:\n",
    "        timeline += \"C\"\n",
    "    else:\n",
    "        timeline += \"A\"\n",
    "    if i != len(df)-1:\n",
    "        if df.iloc[i][\"user_id\"] != df.iloc[i+1][\"user_id\"]:\n",
    "            dna.append(timeline)\n",
    "            timeline = \"\"\n",
    "dna.append(timeline)  \n",
    "dna"
   ]
  },
  {
   "cell_type": "code",
   "execution_count": null,
   "metadata": {},
   "outputs": [],
   "source": [
    "dna_df = pd.DataFrame()\n",
    "dna_df['user_id'] = pd.Series(list(set(sorted(list(df['user_id'])))))"
   ]
  },
  {
   "cell_type": "code",
   "execution_count": null,
   "metadata": {},
   "outputs": [],
   "source": [
    "dna_df = dna_df.sort_values(by='user_id')\n",
    "dna_df['DNA'] = dna\n",
    "dna['knownBot'] = 1 # or 0 if datasets is human\n",
    "dna"
   ]
  },
  {
   "cell_type": "code",
   "execution_count": null,
   "metadata": {},
   "outputs": [],
   "source": [
    "dna_df.to_csv(r'xxx', index = False, header=True)"
   ]
  }
 ],
 "metadata": {
  "kernelspec": {
   "display_name": "Python 3",
   "language": "python",
   "name": "python3"
  },
  "language_info": {
   "codemirror_mode": {
    "name": "ipython",
    "version": 3
   },
   "file_extension": ".py",
   "mimetype": "text/x-python",
   "name": "python",
   "nbconvert_exporter": "python",
   "pygments_lexer": "ipython3",
   "version": "3.7.1"
  }
 },
 "nbformat": 4,
 "nbformat_minor": 2
}
